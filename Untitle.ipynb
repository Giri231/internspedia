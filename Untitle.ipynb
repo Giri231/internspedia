{
 "cells": [
  {
   "cell_type": "markdown",
   "id": "562e59f4",
   "metadata": {},
   "source": [
    "# Handwritten Digit Recognition"
   ]
  },
  {
   "cell_type": "markdown",
   "id": "ee568384",
   "metadata": {},
   "source": [
    "A handwritten digit recognizer using MNIST dataset.\n"
   ]
  },
  {
   "cell_type": "code",
   "execution_count": 31,
   "id": "7de0abef",
   "metadata": {},
   "outputs": [],
   "source": [
    "#The used packages\n",
    "import tensorflow as tf\n",
    "from tensorflow import keras \n",
    "import matplotlib.pyplot as plt\n",
    "import numpy as np\n",
    "from keras.models import Sequential\n",
    "from keras.layers import Flatten,Dense,Conv2D,MaxPooling2D\n",
    "from keras.optimizers import SGD\n",
    "\n",
    "physical_devices = tf.config.list_physical_devices('GPU') \n",
    "if len(physical_devices)>0:\n",
    "    tf.config.experimental.set_memory_growth(physical_devices[0], True)"
   ]
  },
  {
   "cell_type": "markdown",
   "id": "c18d70ee",
   "metadata": {},
   "source": [
    "<h2>Loading the data</h2>\n",
    "\n",
    "I have divided the data into three groups:<br>\n",
    "training data (xtr,ytr) : used to train the model<br>\n",
    "validation data (xval,yval) : used to tone the model<br>\n",
    "test data (xtest,ytest) : used for the final evaluation of the model<br>\n"
   ]
  },
  {
   "cell_type": "code",
   "execution_count": 8,
   "id": "708fe524",
   "metadata": {},
   "outputs": [
    {
     "name": "stdout",
     "output_type": "stream",
     "text": [
      "(60000, 28, 28) (60000,)\n",
      "(10000, 28, 28) (10000,)\n",
      "Type of data is  <class 'numpy.ndarray'> <class 'numpy.uint8'>\n",
      "255 9 255 9\n",
      "(2000, 28, 28) (2000,) (8000, 28, 28) (8000,)\n"
     ]
    }
   ],
   "source": [
    "(xtr,ytr),(x,y) = keras.datasets.mnist.load_data()\n",
    "print(xtr.shape, ytr.shape)\n",
    "print(x.shape,y.shape)\n",
    "print('Type of data is ',type(xtr[0]),type(ytr[0]))\n",
    "print(xtr.max(),ytr.max(),x.max(),y.max())\n",
    "#dividing x and y into valdition and test data\n",
    "xval,xtest,yval,ytest=x[0:8000],x[8000:10000],y[0:8000],y[8000:10000]\n",
    "print(xtest.shape,ytest.shape,xval.shape,yval.shape)"
   ]
  },
  {
   "cell_type": "markdown",
   "id": "05a0bf30",
   "metadata": {},
   "source": [
    "<h2> Visualizing the MNIST dataset\n"
   ]
  },
  {
   "cell_type": "code",
   "execution_count": 10,
   "id": "dca745fd",
   "metadata": {},
   "outputs": [
    {
     "data": {
      "text/plain": [
       "Text(0.5, 0.98, 'The first ten numbers of the training set')"
      ]
     },
     "execution_count": 10,
     "metadata": {},
     "output_type": "execute_result"
    },
    {
     "data": {
      "image/png": "[encoded data removed]",
      "text/plain": [
       "<Figure size 432x288 with 10 Axes>"
      ]
     },
     "metadata": {
      "needs_background": "light"
     },
     "output_type": "display_data"
    }
   ],
   "source": [
    "#show the first ten numbers\n",
    "#(1,10)= 1 rows, ten columns\n",
    "#x = an array of Axes objects\n",
    "figure,x = plt.subplots(1,10)\n",
    "for i in range(10):\n",
    "    x[i].imshow(xtr[i])\n",
    "    x[i].set_title(ytr[i])\n",
    "    #don't show axis, cuz it's ugly here :(\n",
    "    x[i].axis('off')\n",
    "figure.suptitle(\"The first ten numbers of the training set\")"
   ]
  },
  {
   "cell_type": "markdown",
   "id": "24ab3529",
   "metadata": {},
   "source": [
    "<h2>Pre-Processing</h2>\n",
    "\n",
    "since the data is already known to be clean, the Pre-Processing stage will be a short and nice one: I have only normalized the data, and done one hot encoding on the labels. \n",
    "\n"
   ]
  },
  {
   "cell_type": "code",
   "execution_count": 11,
   "id": "035abb28",
   "metadata": {},
   "outputs": [
    {
     "name": "stdout",
     "output_type": "stream",
     "text": [
      "First digit: [7]\n",
      "One-hot-encoded version:\n",
      " [[0. 0. 0. 0. 0. 0. 0. 1. 0. 0.]]\n"
     ]
    }
   ],
   "source": [
    "# Normalizing the data\n",
    "#using float 16 insted of float 32 since it's more efficient\n",
    "xtr = xtr.astype(np.float16)/255.0\n",
    "xval = xval.astype(np.float16)/255.0\n",
    "xtest = xtest.astype(np.float16)/255.0\n",
    "\n",
    "#one hot encoding \n",
    "ytr_oh = keras.utils.to_categorical(ytr)\n",
    "yval_oh = keras.utils.to_categorical(yval)\n",
    "ytest_oh = keras.utils.to_categorical(ytest)\n",
    "\n",
    "print(\"First digit:\",yval[:1])\n",
    "print(\"One-hot-encoded version:\\n\",yval_oh[:1])"
   ]
  },
  {
   "cell_type": "markdown",
   "id": "aa2c2e4b",
   "metadata": {},
   "source": [
    "<h2>Modeling, Toning  and Evaluation"
   ]
  },
  {
   "cell_type": "markdown",
   "id": "d2fa3055",
   "metadata": {},
   "source": [
    "I started with a small general model and then added more complexity until I started having an overfitting problem, then I moved on to a convolutional neural network. I have built 4 models and the last one was the best."
   ]
  },
  {
   "cell_type": "code",
   "execution_count": 15,
   "id": "74772890",
   "metadata": {},
   "outputs": [
    {
     "name": "stdout",
     "output_type": "stream",
     "text": [
      "Epoch 1/25\n",
      "1875/1875 [==============================] - 3s 1ms/step - loss: 0.3770 - acc: 0.8921 - val_loss: 0.3335 - val_acc: 0.9044\n",
      "Epoch 2/25\n",
      "1875/1875 [==============================] - 2s 1ms/step - loss: 0.3033 - acc: 0.9145 - val_loss: 0.3127 - val_acc: 0.9112\n",
      "Epoch 3/25\n",
      "1875/1875 [==============================] - 2s 1ms/step - loss: 0.2896 - acc: 0.9182 - val_loss: 0.2989 - val_acc: 0.9158\n",
      "Epoch 4/25\n",
      "1875/1875 [==============================] - 2s 1ms/step - loss: 0.2825 - acc: 0.9207 - val_loss: 0.3045 - val_acc: 0.9160\n",
      "Epoch 5/25\n",
      "1875/1875 [==============================] - 2s 1ms/step - loss: 0.2773 - acc: 0.9224 - val_loss: 0.3071 - val_acc: 0.9149\n",
      "Epoch 6/25\n",
      "1875/1875 [==============================] - 2s 1ms/step - loss: 0.2744 - acc: 0.9237 - val_loss: 0.2955 - val_acc: 0.9168\n",
      "Epoch 7/25\n",
      "1875/1875 [==============================] - 2s 1ms/step - loss: 0.2706 - acc: 0.9246 - val_loss: 0.3089 - val_acc: 0.9162\n",
      "Epoch 8/25\n",
      "1875/1875 [==============================] - 2s 1ms/step - loss: 0.2693 - acc: 0.9247 - val_loss: 0.3004 - val_acc: 0.9174\n",
      "Epoch 9/25\n",
      "1875/1875 [==============================] - 2s 1ms/step - loss: 0.2676 - acc: 0.9262 - val_loss: 0.2938 - val_acc: 0.9180\n",
      "Epoch 10/25\n",
      "1875/1875 [==============================] - 2s 1ms/step - loss: 0.2651 - acc: 0.9261 - val_loss: 0.2984 - val_acc: 0.9156\n",
      "Epoch 11/25\n",
      "1875/1875 [==============================] - 2s 1ms/step - loss: 0.2640 - acc: 0.9261 - val_loss: 0.2952 - val_acc: 0.9178\n",
      "Epoch 12/25\n",
      "1875/1875 [==============================] - 2s 1ms/step - loss: 0.2623 - acc: 0.9271 - val_loss: 0.3090 - val_acc: 0.9160\n",
      "Epoch 13/25\n",
      "1875/1875 [==============================] - 2s 1ms/step - loss: 0.2614 - acc: 0.9273 - val_loss: 0.2901 - val_acc: 0.9193\n",
      "Epoch 14/25\n",
      "1875/1875 [==============================] - 2s 1ms/step - loss: 0.2603 - acc: 0.9277 - val_loss: 0.2969 - val_acc: 0.9195\n",
      "Epoch 15/25\n",
      "1875/1875 [==============================] - 2s 1ms/step - loss: 0.2583 - acc: 0.9279 - val_loss: 0.2985 - val_acc: 0.9187\n",
      "Epoch 16/25\n",
      "1875/1875 [==============================] - 2s 1ms/step - loss: 0.2581 - acc: 0.9285 - val_loss: 0.2913 - val_acc: 0.9210\n",
      "Epoch 17/25\n",
      "1875/1875 [==============================] - 2s 1ms/step - loss: 0.2577 - acc: 0.9282 - val_loss: 0.3012 - val_acc: 0.9174\n",
      "Epoch 18/25\n",
      "1875/1875 [==============================] - 2s 1ms/step - loss: 0.2564 - acc: 0.9290 - val_loss: 0.2935 - val_acc: 0.9196\n",
      "Epoch 19/25\n",
      "1875/1875 [==============================] - 2s 1ms/step - loss: 0.2552 - acc: 0.9293 - val_loss: 0.2963 - val_acc: 0.9175\n",
      "Epoch 20/25\n",
      "1875/1875 [==============================] - 2s 1ms/step - loss: 0.2553 - acc: 0.9289 - val_loss: 0.2929 - val_acc: 0.9185\n",
      "Epoch 21/25\n",
      "1875/1875 [==============================] - 2s 1ms/step - loss: 0.2543 - acc: 0.9297 - val_loss: 0.2954 - val_acc: 0.9208\n",
      "Epoch 22/25\n",
      "1875/1875 [==============================] - 2s 1ms/step - loss: 0.2539 - acc: 0.9291 - val_loss: 0.2990 - val_acc: 0.9166\n",
      "Epoch 23/25\n",
      "1875/1875 [==============================] - 2s 1ms/step - loss: 0.2533 - acc: 0.9296 - val_loss: 0.3082 - val_acc: 0.9165\n",
      "Epoch 24/25\n",
      "1875/1875 [==============================] - 2s 1ms/step - loss: 0.2530 - acc: 0.9297 - val_loss: 0.3030 - val_acc: 0.9189\n",
      "Epoch 25/25\n",
      "1875/1875 [==============================] - 2s 1ms/step - loss: 0.2524 - acc: 0.9300 - val_loss: 0.2960 - val_acc: 0.9210\n",
      "Model: \"sequential_3\"\n",
      "_________________________________________________________________\n",
      " Layer (type)                Output Shape              Param #   \n",
      "=================================================================\n",
      " flatten_3 (Flatten)         (None, 784)               0         \n",
      "                                                                 \n",
      " dense_3 (Dense)             (None, 10)                7850      \n",
      "                                                                 \n",
      "=================================================================\n",
      "Total params: 7,850\n",
      "Trainable params: 7,850\n",
      "Non-trainable params: 0\n",
      "_________________________________________________________________\n"
     ]
    }
   ],
   "source": [
    "tf.random.set_seed(42)\n",
    "\n",
    "model1 = Sequential()\n",
    "#the dimension of our digit images is 28×28.Because the input dimension of a fully-connected layer is 784, we need to insert another layer into the network, called Flatten, to change tensor shape from 28×28 to 784\n",
    "model1.add(Flatten(input_shape=(28,28)))\n",
    "#We want th output of the network to return the probability of the input digit being equal to  . Because the output of a fully-connected layer is not normalized to be between 0 and 1, it cannot be thought of as probability. To turn it into a probability we need to apply another layer called Softmax.\n",
    "model1.add(Dense(10,activation=\"softmax\"))\n",
    "           \n",
    "model1.compile(SGD(momentum=0.5,learning_rate=.1),loss='categorical_crossentropy',metrics=['acc'])\n",
    "model1.fit(xtr,ytr_oh,validation_data=(xval,yval_oh), epochs=25)\n",
    "model1.summary()\n",
    "#that model's val_accuracy is already 92.2% although it's very simple one"
   ]
  },
  {
   "cell_type": "code",
   "execution_count": 16,
   "id": "afdeed31",
   "metadata": {},
   "outputs": [
    {
     "name": "stdout",
     "output_type": "stream",
     "text": [
      "63/63 [==============================] - 0s 1ms/step - loss: 0.1873 - acc: 0.9425\n",
      "Accuracy: 94.25\n"
     ]
    }
   ],
   "source": [
    "#final evalution of model1\n",
    "_, accuracy = model1.evaluate(xtest,ytest_oh)\n",
    "print('Accuracy: %.2f' % (accuracy*100))"
   ]
  },
  {
   "cell_type": "code",
   "execution_count": 18,
   "id": "73467f06",
   "metadata": {},
   "outputs": [
    {
     "name": "stdout",
     "output_type": "stream",
     "text": [
      "Epoch 1/21\n",
      "1875/1875 [==============================] - 4s 2ms/step - loss: 0.3062 - acc: 0.9111 - val_loss: 0.1916 - val_acc: 0.9423\n",
      "Epoch 2/21\n",
      "1875/1875 [==============================] - 4s 2ms/step - loss: 0.1482 - acc: 0.9576 - val_loss: 0.1467 - val_acc: 0.9555\n",
      "Epoch 3/21\n",
      "1875/1875 [==============================] - 3s 2ms/step - loss: 0.1076 - acc: 0.9685 - val_loss: 0.1111 - val_acc: 0.9650\n",
      "Epoch 4/21\n",
      "1875/1875 [==============================] - 3s 2ms/step - loss: 0.0857 - acc: 0.9751 - val_loss: 0.1007 - val_acc: 0.9688\n",
      "Epoch 5/21\n",
      "1875/1875 [==============================] - 3s 2ms/step - loss: 0.0709 - acc: 0.9792 - val_loss: 0.0988 - val_acc: 0.9695\n",
      "Epoch 6/21\n",
      "1875/1875 [==============================] - 3s 2ms/step - loss: 0.0606 - acc: 0.9823 - val_loss: 0.0886 - val_acc: 0.9743\n",
      "Epoch 7/21\n",
      "1875/1875 [==============================] - 3s 2ms/step - loss: 0.0520 - acc: 0.9849 - val_loss: 0.0836 - val_acc: 0.9743\n",
      "Epoch 8/21\n",
      "1875/1875 [==============================] - 3s 2ms/step - loss: 0.0461 - acc: 0.9866 - val_loss: 0.0809 - val_acc: 0.9759\n",
      "Epoch 9/21\n",
      "1875/1875 [==============================] - 4s 2ms/step - loss: 0.0404 - acc: 0.9879 - val_loss: 0.0783 - val_acc: 0.9751\n",
      "Epoch 10/21\n",
      "1875/1875 [==============================] - 4s 2ms/step - loss: 0.0351 - acc: 0.9901 - val_loss: 0.0800 - val_acc: 0.9756\n",
      "Epoch 11/21\n",
      "1875/1875 [==============================] - 3s 2ms/step - loss: 0.0307 - acc: 0.9922 - val_loss: 0.0828 - val_acc: 0.9737\n",
      "Epoch 12/21\n",
      "1875/1875 [==============================] - 3s 2ms/step - loss: 0.0265 - acc: 0.9934 - val_loss: 0.0800 - val_acc: 0.9754\n",
      "Epoch 13/21\n",
      "1875/1875 [==============================] - 3s 2ms/step - loss: 0.0238 - acc: 0.9941 - val_loss: 0.0812 - val_acc: 0.9750\n",
      "Epoch 14/21\n",
      "1875/1875 [==============================] - 3s 2ms/step - loss: 0.0211 - acc: 0.9952 - val_loss: 0.0780 - val_acc: 0.9761\n",
      "Epoch 15/21\n",
      "1875/1875 [==============================] - 3s 2ms/step - loss: 0.0185 - acc: 0.9957 - val_loss: 0.0753 - val_acc: 0.9779\n",
      "Epoch 16/21\n",
      "1875/1875 [==============================] - 3s 2ms/step - loss: 0.0163 - acc: 0.9967 - val_loss: 0.0744 - val_acc: 0.9761\n",
      "Epoch 17/21\n",
      "1875/1875 [==============================] - 3s 2ms/step - loss: 0.0145 - acc: 0.9975 - val_loss: 0.0736 - val_acc: 0.9756\n",
      "Epoch 18/21\n",
      "1875/1875 [==============================] - 3s 2ms/step - loss: 0.0130 - acc: 0.9977 - val_loss: 0.0748 - val_acc: 0.9780\n",
      "Epoch 19/21\n",
      "1875/1875 [==============================] - 3s 2ms/step - loss: 0.0113 - acc: 0.9983 - val_loss: 0.0784 - val_acc: 0.9775\n",
      "Epoch 20/21\n",
      "1875/1875 [==============================] - 3s 2ms/step - loss: 0.0101 - acc: 0.9987 - val_loss: 0.0744 - val_acc: 0.9774\n",
      "Epoch 21/21\n",
      "1875/1875 [==============================] - 3s 2ms/step - loss: 0.0093 - acc: 0.9987 - val_loss: 0.0749 - val_acc: 0.9784\n",
      "Model: \"sequential_5\"\n",
      "_________________________________________________________________\n",
      " Layer (type)                Output Shape              Param #   \n",
      "=================================================================\n",
      " flatten_5 (Flatten)         (None, 784)               0         \n",
      "                                                                 \n",
      " dense_6 (Dense)             (None, 100)               78500     \n",
      "                                                                 \n",
      " dense_7 (Dense)             (None, 10)                1010      \n",
      "                                                                 \n",
      "=================================================================\n",
      "Total params: 79,510\n",
      "Trainable params: 79,510\n",
      "Non-trainable params: 0\n",
      "_________________________________________________________________\n"
     ]
    }
   ],
   "source": [
    "#Multi-Layer networks\n",
    "#adding more hidden layers\n",
    "#starting with a simple model of only 2 layers\n",
    "tf.random.set_seed(42)\n",
    "\n",
    "model2 = Sequential()\n",
    "#the dimension of our digit images is 28×28.Because the input dimension of a fully-connected layer is 784, we need to insert another layer into the network, called Flatten, to change tensor shape from 28×28 to 784\n",
    "model2.add(Flatten(input_shape=(28,28)))\n",
    "\n",
    "# 784 inputs, 100 outputs\n",
    "model2.add(Dense(100,activation=\"relu\"))     \n",
    "\n",
    "#We want th output of the network to return the probability of the input digit being equal to  . Because the output of a fully-connected layer is not normalized to be between 0 and 1, it cannot be thought of as probability. To turn it into a probability we need to apply another layer called Softmax.\n",
    "model2.add(Dense(10,activation=\"softmax\"))\n",
    "           \n",
    "model2.compile(SGD(learning_rate=.1),loss='categorical_crossentropy',metrics=['acc'])\n",
    "model2.fit(xtr,ytr_oh,validation_data=(xval,yval_oh), epochs=21)\n",
    "model2.summary()\n",
    "#val_accuracy = %97.84"
   ]
  },
  {
   "cell_type": "code",
   "execution_count": 19,
   "id": "ed26af13",
   "metadata": {},
   "outputs": [
    {
     "name": "stdout",
     "output_type": "stream",
     "text": [
      "63/63 [==============================] - 0s 1ms/step - loss: 0.0466 - acc: 0.9865\n",
      "Accuracy: 98.65\n"
     ]
    }
   ],
   "source": [
    "#final evalution of model2\n",
    "_, accuracy = model2.evaluate(xtest,ytest_oh)\n",
    "print('Accuracy: %.2f' % (accuracy*100))"
   ]
  },
  {
   "cell_type": "markdown",
   "id": "62bec596",
   "metadata": {},
   "source": [
    "<h3>Moving on to CNN:</h3>\n",
    "\n",
    "the layer Conv2D from keras expects the input to be of the shape  W×H×C, where W and H are width and height of the image, and C is the number of color channels. Since the MINST dataset is grayscale, Then we need the same shape with C set to 1 this time.\n"
   ]
  },
  {
   "cell_type": "code",
   "execution_count": 23,
   "id": "fbb31d8d",
   "metadata": {},
   "outputs": [
    {
     "name": "stdout",
     "output_type": "stream",
     "text": [
      "(60000, 28, 28, 1)\n"
     ]
    }
   ],
   "source": [
    "xtr_c = np.expand_dims(xtr,3)\n",
    "xval_c = np.expand_dims(xval,3)\n",
    "xtest_c = np.expand_dims(xtest,3)\n",
    "print(xtr_c.shape)"
   ]
  },
  {
   "cell_type": "code",
   "execution_count": 27,
   "id": "ff87f089",
   "metadata": {},
   "outputs": [
    {
     "name": "stdout",
     "output_type": "stream",
     "text": [
      "Epoch 1/21\n",
      "1875/1875 [==============================] - 10s 5ms/step - loss: 0.2180 - acc: 0.9364 - val_loss: 0.1047 - val_acc: 0.9693\n",
      "Epoch 2/21\n",
      "1875/1875 [==============================] - 10s 5ms/step - loss: 0.0862 - acc: 0.9755 - val_loss: 0.0774 - val_acc: 0.9761\n",
      "Epoch 3/21\n",
      "1875/1875 [==============================] - 10s 5ms/step - loss: 0.0666 - acc: 0.9810 - val_loss: 0.0642 - val_acc: 0.9795\n",
      "Epoch 4/21\n",
      "1875/1875 [==============================] - 9s 5ms/step - loss: 0.0579 - acc: 0.9833 - val_loss: 0.0720 - val_acc: 0.9769\n",
      "Epoch 5/21\n",
      "1875/1875 [==============================] - 11s 6ms/step - loss: 0.0529 - acc: 0.9851 - val_loss: 0.0626 - val_acc: 0.9789\n",
      "Epoch 6/21\n",
      "1875/1875 [==============================] - 10s 5ms/step - loss: 0.0489 - acc: 0.9862 - val_loss: 0.0585 - val_acc: 0.9808\n",
      "Epoch 7/21\n",
      "1875/1875 [==============================] - 11s 6ms/step - loss: 0.0460 - acc: 0.9868 - val_loss: 0.0607 - val_acc: 0.9814\n",
      "Epoch 8/21\n",
      "1875/1875 [==============================] - 9s 5ms/step - loss: 0.0445 - acc: 0.9872 - val_loss: 0.0567 - val_acc: 0.9816\n",
      "Epoch 9/21\n",
      "1875/1875 [==============================] - 10s 5ms/step - loss: 0.0424 - acc: 0.9879 - val_loss: 0.0604 - val_acc: 0.9811\n",
      "Epoch 10/21\n",
      "1875/1875 [==============================] - 10s 6ms/step - loss: 0.0407 - acc: 0.9884 - val_loss: 0.0572 - val_acc: 0.9821\n",
      "Epoch 11/21\n",
      "1875/1875 [==============================] - 10s 5ms/step - loss: 0.0393 - acc: 0.9887 - val_loss: 0.0594 - val_acc: 0.9819\n",
      "Epoch 12/21\n",
      "1875/1875 [==============================] - 11s 6ms/step - loss: 0.0377 - acc: 0.9893 - val_loss: 0.0620 - val_acc: 0.9795\n",
      "Epoch 13/21\n",
      "1875/1875 [==============================] - 10s 5ms/step - loss: 0.0367 - acc: 0.9897 - val_loss: 0.0572 - val_acc: 0.9819\n",
      "Epoch 14/21\n",
      "1875/1875 [==============================] - 10s 5ms/step - loss: 0.0359 - acc: 0.9900 - val_loss: 0.0617 - val_acc: 0.9812\n",
      "Epoch 15/21\n",
      "1875/1875 [==============================] - 10s 5ms/step - loss: 0.0344 - acc: 0.9904 - val_loss: 0.0613 - val_acc: 0.9806\n",
      "Epoch 16/21\n",
      "1875/1875 [==============================] - 11s 6ms/step - loss: 0.0337 - acc: 0.9903 - val_loss: 0.0588 - val_acc: 0.9827\n",
      "Epoch 17/21\n",
      "1875/1875 [==============================] - 9s 5ms/step - loss: 0.0324 - acc: 0.9910 - val_loss: 0.0627 - val_acc: 0.9831\n",
      "Epoch 18/21\n",
      "1875/1875 [==============================] - 10s 5ms/step - loss: 0.0321 - acc: 0.9912 - val_loss: 0.0574 - val_acc: 0.9829\n",
      "Epoch 19/21\n",
      "1875/1875 [==============================] - 10s 6ms/step - loss: 0.0313 - acc: 0.9911 - val_loss: 0.0668 - val_acc: 0.9808\n",
      "Epoch 20/21\n",
      "1875/1875 [==============================] - 10s 5ms/step - loss: 0.0304 - acc: 0.9915 - val_loss: 0.0641 - val_acc: 0.9833\n",
      "Epoch 21/21\n",
      "1875/1875 [==============================] - 10s 5ms/step - loss: 0.0302 - acc: 0.9918 - val_loss: 0.0604 - val_acc: 0.9839\n",
      "Model: \"sequential_9\"\n",
      "_________________________________________________________________\n",
      " Layer (type)                Output Shape              Param #   \n",
      "=================================================================\n",
      " conv2d_3 (Conv2D)           (None, 24, 24, 9)         234       \n",
      "                                                                 \n",
      " flatten_9 (Flatten)         (None, 5184)              0         \n",
      "                                                                 \n",
      " dense_11 (Dense)            (None, 10)                51850     \n",
      "                                                                 \n",
      "=================================================================\n",
      "Total params: 52,084\n",
      "Trainable params: 52,084\n",
      "Non-trainable params: 0\n",
      "_________________________________________________________________\n"
     ]
    }
   ],
   "source": [
    "tf.random.set_seed(42)\n",
    "model3 = keras.models.Sequential()\n",
    "\n",
    "model3.add(Conv2D(filters=9, kernel_size=(5,5), input_shape=(28,28,1),activation='relu'))\n",
    "\n",
    "model3.add(Flatten())\n",
    "\n",
    "model3.add(Dense(10,activation=\"softmax\"))\n",
    "\n",
    "model3.compile(loss='categorical_crossentropy',metrics=['acc'])\n",
    "\n",
    "model3.fit(xtr_c,ytr_oh,validation_data=(xval_c,yval_oh),epochs=21)\n",
    "\n",
    "model3.summary()\n",
    "#val_accuracy = %98.39"
   ]
  },
  {
   "cell_type": "code",
   "execution_count": 28,
   "id": "4f47d270",
   "metadata": {},
   "outputs": [
    {
     "name": "stdout",
     "output_type": "stream",
     "text": [
      "63/63 [==============================] - 0s 2ms/step - loss: 0.0420 - acc: 0.9885\n",
      "Accuracy: 98.85\n"
     ]
    }
   ],
   "source": [
    "#final evalution of model3\n",
    "_, accuracy = model3.evaluate(xtest_c,ytest_oh)\n",
    "print('Accuracy: %.2f' % (accuracy*100))"
   ]
  },
  {
   "cell_type": "code",
   "execution_count": 29,
   "id": "54218473",
   "metadata": {},
   "outputs": [
    {
     "name": "stdout",
     "output_type": "stream",
     "text": [
      "Epoch 1/10\n",
      "1875/1875 [==============================] - 15s 8ms/step - loss: 0.2177 - acc: 0.9321 - val_loss: 0.0840 - val_acc: 0.9715\n",
      "Epoch 2/10\n",
      "1875/1875 [==============================] - 14s 8ms/step - loss: 0.0607 - acc: 0.9817 - val_loss: 0.0566 - val_acc: 0.9809\n",
      "Epoch 3/10\n",
      "1875/1875 [==============================] - 14s 8ms/step - loss: 0.0406 - acc: 0.9870 - val_loss: 0.0378 - val_acc: 0.9879\n",
      "Epoch 4/10\n",
      "1875/1875 [==============================] - 14s 8ms/step - loss: 0.0329 - acc: 0.9901 - val_loss: 0.0481 - val_acc: 0.9847\n",
      "Epoch 5/10\n",
      "1875/1875 [==============================] - 14s 8ms/step - loss: 0.0275 - acc: 0.9920 - val_loss: 0.0354 - val_acc: 0.9891\n",
      "Epoch 6/10\n",
      "1875/1875 [==============================] - 15s 8ms/step - loss: 0.0236 - acc: 0.9930 - val_loss: 0.0332 - val_acc: 0.9900\n",
      "Epoch 7/10\n",
      "1875/1875 [==============================] - 16s 8ms/step - loss: 0.0211 - acc: 0.9937 - val_loss: 0.0328 - val_acc: 0.9911\n",
      "Epoch 8/10\n",
      "1875/1875 [==============================] - 15s 8ms/step - loss: 0.0195 - acc: 0.9945 - val_loss: 0.0426 - val_acc: 0.9885\n",
      "Epoch 9/10\n",
      "1875/1875 [==============================] - 15s 8ms/step - loss: 0.0163 - acc: 0.9951 - val_loss: 0.0337 - val_acc: 0.9906\n",
      "Epoch 10/10\n",
      "1875/1875 [==============================] - 15s 8ms/step - loss: 0.0143 - acc: 0.9958 - val_loss: 0.0342 - val_acc: 0.9918\n",
      "Model: \"sequential_10\"\n",
      "_________________________________________________________________\n",
      " Layer (type)                Output Shape              Param #   \n",
      "=================================================================\n",
      " conv2d_4 (Conv2D)           (None, 24, 24, 20)        520       \n",
      "                                                                 \n",
      " max_pooling2d (MaxPooling2D  (None, 12, 12, 20)       0         \n",
      " )                                                               \n",
      "                                                                 \n",
      " conv2d_5 (Conv2D)           (None, 8, 8, 20)          10020     \n",
      "                                                                 \n",
      " conv2d_6 (Conv2D)           (None, 4, 4, 20)          10020     \n",
      "                                                                 \n",
      " max_pooling2d_1 (MaxPooling  (None, 2, 2, 20)         0         \n",
      " 2D)                                                             \n",
      "                                                                 \n",
      " flatten_10 (Flatten)        (None, 80)                0         \n",
      "                                                                 \n",
      " dense_12 (Dense)            (None, 10)                810       \n",
      "                                                                 \n",
      "=================================================================\n",
      "Total params: 21,370\n",
      "Trainable params: 21,370\n",
      "Non-trainable params: 0\n",
      "_________________________________________________________________\n"
     ]
    }
   ],
   "source": [
    "tf.random.set_seed(42)\n",
    "model4 = keras.models.Sequential()\n",
    "\n",
    "model4.add(Conv2D(filters=20, kernel_size=(5,5), input_shape=(28,28,1),activation='relu'))\n",
    "model4.add(MaxPooling2D())\n",
    "\n",
    "model4.add(Conv2D(filters=20, kernel_size=(5,5), activation='relu'))\n",
    "\n",
    "model4.add(Conv2D(filters=20, kernel_size=(5,5), activation='relu'))\n",
    "model4.add(MaxPooling2D())\n",
    "\n",
    "model4.add(Flatten())\n",
    "model4.add(Dense(10,activation=\"softmax\"))\n",
    "\n",
    "model4.compile(loss='categorical_crossentropy',metrics=['acc'])\n",
    "\n",
    "model4.fit(xtr_c,ytr_oh,validation_data=(xval_c,yval_oh),epochs=10)\n",
    "model4.summary()\n",
    "#val_accuracy = %99.18"
   ]
  },
  {
   "cell_type": "code",
   "execution_count": 30,
   "id": "25054058",
   "metadata": {},
   "outputs": [
    {
     "name": "stdout",
     "output_type": "stream",
     "text": [
      "63/63 [==============================] - 0s 3ms/step - loss: 0.0349 - acc: 0.9925\n",
      "Accuracy: 99.25\n"
     ]
    }
   ],
   "source": [
    "#final evalution of model4\n",
    "_, accuracy = model4.evaluate(xtest_c,ytest_oh)\n",
    "print('Accuracy: %.2f' % (accuracy*100))"
   ]
  }
 ],
 "metadata": {
  "kernelspec": {
   "display_name": "Python 3 (ipykernel)",
   "language": "python",
   "name": "python3"
  },
  "language_info": {
   "codemirror_mode": {
    "name": "ipython",
    "version": 3
   },
   "file_extension": ".py",
   "mimetype": "text/x-python",
   "name": "python",
   "nbconvert_exporter": "python",
   "pygments_lexer": "ipython3",
   "version": "3.8.10"
  }
 },
 "nbformat": 4,
 "nbformat_minor": 5
}
